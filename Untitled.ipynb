{
 "cells": [
  {
   "cell_type": "code",
   "execution_count": 1,
   "id": "f3608eed",
   "metadata": {},
   "outputs": [],
   "source": [
    "import matplotlib.pyplot as plt\n",
    "import seaborn as sns\n",
    "import pandas as pd\n",
    "import numpy as np"
   ]
  },
  {
   "cell_type": "code",
   "execution_count": 2,
   "id": "b62ac266",
   "metadata": {},
   "outputs": [
    {
     "name": "stdout",
     "output_type": "stream",
     "text": [
      "     id                                              name  host_id  \\\n",
      "0  2539                Clean & quiet apt home by the park     2787   \n",
      "1  2595                             Skylit Midtown Castle     2845   \n",
      "2  3647               THE VILLAGE OF HARLEM....NEW YORK !     4632   \n",
      "3  3831                   Cozy Entire Floor of Brownstone     4869   \n",
      "4  5022  Entire Apt: Spacious Studio/Loft by central park     7192   \n",
      "\n",
      "     host_name neighbourhood_group neighbourhood  latitude  longitude  \\\n",
      "0         John            Brooklyn    Kensington  40.64749  -73.97237   \n",
      "1     Jennifer           Manhattan       Midtown  40.75362  -73.98377   \n",
      "2    Elisabeth           Manhattan        Harlem  40.80902  -73.94190   \n",
      "3  LisaRoxanne            Brooklyn  Clinton Hill  40.68514  -73.95976   \n",
      "4        Laura           Manhattan   East Harlem  40.79851  -73.94399   \n",
      "\n",
      "         room_type  price  minimum_nights  number_of_reviews last_review  \\\n",
      "0     Private room    149               1                  9  19/10/2018   \n",
      "1  Entire home/apt    225               1                 45  21/05/2019   \n",
      "2     Private room    150               3                  0         NaN   \n",
      "3  Entire home/apt     89               1                270    5/7/2019   \n",
      "4  Entire home/apt     80              10                  9  19/11/2018   \n",
      "\n",
      "   reviews_per_month  calculated_host_listings_count  availability_365  \n",
      "0               0.21                               6               365  \n",
      "1               0.38                               2               355  \n",
      "2                NaN                               1               365  \n",
      "3               4.64                               1               194  \n",
      "4               0.10                               1                 0  \n"
     ]
    }
   ],
   "source": [
    "airbnb=pd.read_csv(\"C:\\\\Users\\\\rusar\\\\OneDrive\\\\Desktop\\\\airbnb.csv\")\n",
    "print(airbnb.head(5))"
   ]
  },
  {
   "cell_type": "code",
   "execution_count": 3,
   "id": "9a2d4096",
   "metadata": {},
   "outputs": [
    {
     "name": "stdout",
     "output_type": "stream",
     "text": [
      "<class 'pandas.core.frame.DataFrame'>\n",
      "RangeIndex: 48895 entries, 0 to 48894\n",
      "Data columns (total 16 columns):\n",
      " #   Column                          Non-Null Count  Dtype  \n",
      "---  ------                          --------------  -----  \n",
      " 0   id                              48895 non-null  int64  \n",
      " 1   name                            48879 non-null  object \n",
      " 2   host_id                         48895 non-null  int64  \n",
      " 3   host_name                       48874 non-null  object \n",
      " 4   neighbourhood_group             48895 non-null  object \n",
      " 5   neighbourhood                   48895 non-null  object \n",
      " 6   latitude                        48895 non-null  float64\n",
      " 7   longitude                       48895 non-null  float64\n",
      " 8   room_type                       48895 non-null  object \n",
      " 9   price                           48895 non-null  int64  \n",
      " 10  minimum_nights                  48895 non-null  int64  \n",
      " 11  number_of_reviews               48895 non-null  int64  \n",
      " 12  last_review                     38843 non-null  object \n",
      " 13  reviews_per_month               38843 non-null  float64\n",
      " 14  calculated_host_listings_count  48895 non-null  int64  \n",
      " 15  availability_365                48895 non-null  int64  \n",
      "dtypes: float64(3), int64(7), object(6)\n",
      "memory usage: 6.0+ MB\n",
      "None\n"
     ]
    }
   ],
   "source": [
    "print(airbnb.info())"
   ]
  },
  {
   "cell_type": "code",
   "execution_count": 4,
   "id": "a9074092",
   "metadata": {},
   "outputs": [
    {
     "data": {
      "text/plain": [
       "neighbourhood_group\n",
       "Manhattan        277073\n",
       "Brooklyn          45925\n",
       "Queens            23005\n",
       "Bronx              2437\n",
       "Staten Island       865\n",
       "Name: calculated_host_listings_count, dtype: int64"
      ]
     },
     "execution_count": 4,
     "metadata": {},
     "output_type": "execute_result"
    }
   ],
   "source": [
    "listings_by_neighbourhood_group=airbnb.groupby(\"neighbourhood_group\")[\"calculated_host_listings_count\"].sum()\n",
    "listings_by_neighbourhood_group.sort_values(ascending=False)"
   ]
  },
  {
   "cell_type": "code",
   "execution_count": 5,
   "id": "2803cab5",
   "metadata": {},
   "outputs": [
    {
     "data": {
      "text/plain": [
       "Manhattan        0.443011\n",
       "Brooklyn         0.411167\n",
       "Queens           0.115881\n",
       "Bronx            0.022313\n",
       "Staten Island    0.007629\n",
       "Name: neighbourhood_group, dtype: float64"
      ]
     },
     "execution_count": 5,
     "metadata": {},
     "output_type": "execute_result"
    }
   ],
   "source": [
    "airbnb.neighbourhood_group.value_counts(normalize=True)"
   ]
  },
  {
   "cell_type": "code",
   "execution_count": 6,
   "id": "114fc83b",
   "metadata": {},
   "outputs": [
    {
     "name": "stdout",
     "output_type": "stream",
     "text": [
      "     id                                              name  host_id  \\\n",
      "0  2539                Clean & quiet apt home by the park     2787   \n",
      "1  2595                             Skylit Midtown Castle     2845   \n",
      "2  3647               THE VILLAGE OF HARLEM....NEW YORK !     4632   \n",
      "3  3831                   Cozy Entire Floor of Brownstone     4869   \n",
      "4  5022  Entire Apt: Spacious Studio/Loft by central park     7192   \n",
      "\n",
      "     host_name neighbourhood_group neighbourhood  latitude  longitude  \\\n",
      "0         John            Brooklyn    Kensington  40.64749  -73.97237   \n",
      "1     Jennifer           Manhattan       Midtown  40.75362  -73.98377   \n",
      "2    Elisabeth           Manhattan        Harlem  40.80902  -73.94190   \n",
      "3  LisaRoxanne            Brooklyn  Clinton Hill  40.68514  -73.95976   \n",
      "4        Laura           Manhattan   East Harlem  40.79851  -73.94399   \n",
      "\n",
      "         room_type  price  minimum_nights  number_of_reviews last_review  \\\n",
      "0     Private room    149               1                  9  19/10/2018   \n",
      "1  Entire home/apt    225               1                 45  21/05/2019   \n",
      "2     Private room    150               3                  0         NaN   \n",
      "3  Entire home/apt     89               1                270    5/7/2019   \n",
      "4  Entire home/apt     80              10                  9  19/11/2018   \n",
      "\n",
      "   reviews_per_month  calculated_host_listings_count  availability_365  \\\n",
      "0               0.21                               6               365   \n",
      "1               0.38                               2               355   \n",
      "2                NaN                               1               365   \n",
      "3               4.64                               1               194   \n",
      "4               0.10                               1                 0   \n",
      "\n",
      "   Revenue  \n",
      "0     1341  \n",
      "1    10125  \n",
      "2        0  \n",
      "3    24030  \n",
      "4      720  \n"
     ]
    }
   ],
   "source": [
    "revenue=airbnb[\"price\"]*airbnb[\"number_of_reviews\"]\n",
    "airbnb[\"Revenue\"]=revenue\n",
    "print(airbnb.head(5))"
   ]
  },
  {
   "cell_type": "code",
   "execution_count": 7,
   "id": "bfa37591",
   "metadata": {},
   "outputs": [
    {
     "ename": "NameError",
     "evalue": "name 'avg_reve_by_ng' is not defined",
     "output_type": "error",
     "traceback": [
      "\u001b[1;31m---------------------------------------------------------------------------\u001b[0m",
      "\u001b[1;31mNameError\u001b[0m                                 Traceback (most recent call last)",
      "Input \u001b[1;32mIn [7]\u001b[0m, in \u001b[0;36m<cell line: 2>\u001b[1;34m()\u001b[0m\n\u001b[0;32m      1\u001b[0m avg_rev_by_ng\u001b[38;5;241m=\u001b[39mairbnb\u001b[38;5;241m.\u001b[39mgroupby(\u001b[38;5;124m\"\u001b[39m\u001b[38;5;124mneighbourhood_group\u001b[39m\u001b[38;5;124m\"\u001b[39m)[\u001b[38;5;124m\"\u001b[39m\u001b[38;5;124mRevenue\u001b[39m\u001b[38;5;124m\"\u001b[39m]\u001b[38;5;241m.\u001b[39mmean()\n\u001b[1;32m----> 2\u001b[0m \u001b[43mavg_reve_by_ng\u001b[49m\u001b[38;5;241m.\u001b[39mplot(kind\u001b[38;5;241m=\u001b[39m\u001b[38;5;124m\"\u001b[39m\u001b[38;5;124mbar\u001b[39m\u001b[38;5;124m\"\u001b[39m)\n\u001b[0;32m      3\u001b[0m plt\u001b[38;5;241m.\u001b[39mshow()\n",
      "\u001b[1;31mNameError\u001b[0m: name 'avg_reve_by_ng' is not defined"
     ]
    }
   ],
   "source": [
    "avg_rev_by_ng=airbnb.groupby(\"neighbourhood_group\")[\"Revenue\"].mean()\n",
    "avg_reve_by_ng.plot(kind=\"bar\")\n",
    "plt.show()"
   ]
  },
  {
   "cell_type": "code",
   "execution_count": 8,
   "id": "0cd1842d",
   "metadata": {},
   "outputs": [
    {
     "data": {
      "image/png": "[encoded data removed]",
      "text/plain": [
       "<Figure size 432x288 with 1 Axes>"
      ]
     },
     "metadata": {
      "needs_background": "light"
     },
     "output_type": "display_data"
    }
   ],
   "source": [
    "avg_rev_by_ng=airbnb.groupby(\"neighbourhood_group\")[\"Revenue\"].mean()\n",
    "avg_rev_by_ng.plot(kind=\"bar\")\n",
    "plt.show()"
   ]
  },
  {
   "cell_type": "code",
   "execution_count": 9,
   "id": "8a49e66f",
   "metadata": {},
   "outputs": [
    {
     "name": "stdout",
     "output_type": "stream",
     "text": [
      "neighbourhood_group  neighbourhood     \n",
      "Brooklyn             Bath Beach               33486\n",
      "                     Bay Ridge               310019\n",
      "                     Bedford-Stuyvesant    12352457\n",
      "                     Bensonhurst             159780\n",
      "                     Bergen Beach             22485\n",
      "                                             ...   \n",
      "Queens               St. Albans              213708\n",
      "                     Sunnyside               707542\n",
      "                     Whitestone               15641\n",
      "                     Woodhaven               145921\n",
      "                     Woodside                537139\n",
      "Name: Revenue, Length: 130, dtype: int64\n"
     ]
    }
   ],
   "source": [
    "airbnb_filtered=airbnb[(airbnb.neighbourhood_group=='Manhattan') | (airbnb.neighbourhood_group=='Brooklyn') | (airbnb.neighbourhood_group=='Queens')]\n",
    "airbnb_grouped=airbnb_filtered.groupby([\"neighbourhood_group\",\"neighbourhood\"])[\"Revenue\"].sum()\n",
    "print(airbnb_grouped)\n"
   ]
  },
  {
   "cell_type": "code",
   "execution_count": 10,
   "id": "da9ae8f4",
   "metadata": {},
   "outputs": [
    {
     "data": {
      "text/html": [
       "<div>\n",
       "<style scoped>\n",
       "    .dataframe tbody tr th:only-of-type {\n",
       "        vertical-align: middle;\n",
       "    }\n",
       "\n",
       "    .dataframe tbody tr th {\n",
       "        vertical-align: top;\n",
       "    }\n",
       "\n",
       "    .dataframe thead th {\n",
       "        text-align: right;\n",
       "    }\n",
       "</style>\n",
       "<table border=\"1\" class=\"dataframe\">\n",
       "  <thead>\n",
       "    <tr style=\"text-align: right;\">\n",
       "      <th></th>\n",
       "      <th>neighbourhood_group</th>\n",
       "      <th>neighbourhood</th>\n",
       "      <th>Revenue</th>\n",
       "    </tr>\n",
       "  </thead>\n",
       "  <tbody>\n",
       "    <tr>\n",
       "      <th>0</th>\n",
       "      <td>Brooklyn</td>\n",
       "      <td>Bath Beach</td>\n",
       "      <td>33486</td>\n",
       "    </tr>\n",
       "    <tr>\n",
       "      <th>1</th>\n",
       "      <td>Brooklyn</td>\n",
       "      <td>Bay Ridge</td>\n",
       "      <td>310019</td>\n",
       "    </tr>\n",
       "    <tr>\n",
       "      <th>2</th>\n",
       "      <td>Brooklyn</td>\n",
       "      <td>Bedford-Stuyvesant</td>\n",
       "      <td>12352457</td>\n",
       "    </tr>\n",
       "    <tr>\n",
       "      <th>3</th>\n",
       "      <td>Brooklyn</td>\n",
       "      <td>Bensonhurst</td>\n",
       "      <td>159780</td>\n",
       "    </tr>\n",
       "    <tr>\n",
       "      <th>4</th>\n",
       "      <td>Brooklyn</td>\n",
       "      <td>Bergen Beach</td>\n",
       "      <td>22485</td>\n",
       "    </tr>\n",
       "    <tr>\n",
       "      <th>...</th>\n",
       "      <td>...</td>\n",
       "      <td>...</td>\n",
       "      <td>...</td>\n",
       "    </tr>\n",
       "    <tr>\n",
       "      <th>125</th>\n",
       "      <td>Queens</td>\n",
       "      <td>St. Albans</td>\n",
       "      <td>213708</td>\n",
       "    </tr>\n",
       "    <tr>\n",
       "      <th>126</th>\n",
       "      <td>Queens</td>\n",
       "      <td>Sunnyside</td>\n",
       "      <td>707542</td>\n",
       "    </tr>\n",
       "    <tr>\n",
       "      <th>127</th>\n",
       "      <td>Queens</td>\n",
       "      <td>Whitestone</td>\n",
       "      <td>15641</td>\n",
       "    </tr>\n",
       "    <tr>\n",
       "      <th>128</th>\n",
       "      <td>Queens</td>\n",
       "      <td>Woodhaven</td>\n",
       "      <td>145921</td>\n",
       "    </tr>\n",
       "    <tr>\n",
       "      <th>129</th>\n",
       "      <td>Queens</td>\n",
       "      <td>Woodside</td>\n",
       "      <td>537139</td>\n",
       "    </tr>\n",
       "  </tbody>\n",
       "</table>\n",
       "<p>130 rows × 3 columns</p>\n",
       "</div>"
      ],
      "text/plain": [
       "    neighbourhood_group       neighbourhood   Revenue\n",
       "0              Brooklyn          Bath Beach     33486\n",
       "1              Brooklyn           Bay Ridge    310019\n",
       "2              Brooklyn  Bedford-Stuyvesant  12352457\n",
       "3              Brooklyn         Bensonhurst    159780\n",
       "4              Brooklyn        Bergen Beach     22485\n",
       "..                  ...                 ...       ...\n",
       "125              Queens          St. Albans    213708\n",
       "126              Queens           Sunnyside    707542\n",
       "127              Queens          Whitestone     15641\n",
       "128              Queens           Woodhaven    145921\n",
       "129              Queens            Woodside    537139\n",
       "\n",
       "[130 rows x 3 columns]"
      ]
     },
     "execution_count": 10,
     "metadata": {},
     "output_type": "execute_result"
    }
   ],
   "source": [
    "airbnb_grouped.reset_index()"
   ]
  },
  {
   "cell_type": "code",
   "execution_count": 11,
   "id": "3f8dd55a",
   "metadata": {},
   "outputs": [],
   "source": [
    "airbnb_filtered=airbnb[(airbnb.neighbourhood_group=='Manhattan') | (airbnb.neighbourhood_group=='Brooklyn') | (airbnb.neighbourhood_group=='Queens')]\n",
    "airbnb_filtered_grouped=airbnb_filtered.groupby([\"neighbourhood_group\",\"neighbourhood\"]).agg({\"Revenue\":sum})\n",
    "airbnb_sorted = airbnb_filtered_grouped['Revenue'].groupby('neighbourhood_group', group_keys=False)\n",
    "res = airbnb_sorted.apply(lambda x: x.sort_values(ascending=False).head(3))"
   ]
  },
  {
   "cell_type": "code",
   "execution_count": 12,
   "id": "cae6a1de",
   "metadata": {},
   "outputs": [
    {
     "data": {
      "text/plain": [
       "neighbourhood_group  neighbourhood     \n",
       "Brooklyn             Williamsburg          12389011\n",
       "                     Bedford-Stuyvesant    12352457\n",
       "                     Bushwick               4762224\n",
       "Manhattan            Harlem                 8598692\n",
       "                     Hell's Kitchen         8238991\n",
       "                     East Village           7574535\n",
       "Queens               Astoria                1880840\n",
       "                     Long Island City       1374945\n",
       "                     Flushing               1140450\n",
       "Name: Revenue, dtype: int64"
      ]
     },
     "execution_count": 12,
     "metadata": {},
     "output_type": "execute_result"
    }
   ],
   "source": [
    "airbnb_sorted.nlargest(3)"
   ]
  },
  {
   "cell_type": "code",
   "execution_count": 13,
   "id": "88ea2010",
   "metadata": {},
   "outputs": [
    {
     "name": "stdout",
     "output_type": "stream",
     "text": [
      "room_type        neighbourhood     \n",
      "Entire home/apt  Astoria               2845.629921\n",
      "                 Bedford-Stuyvesant    5923.995600\n",
      "                 Bushwick              4128.241888\n",
      "                 East Village          4871.841880\n",
      "                 Flushing              4879.349057\n",
      "                 Harlem                4991.899614\n",
      "                 Hell's Kitchen        4116.112890\n",
      "                 Long Island City      3303.504167\n",
      "                 Williamsburg          4659.608673\n",
      "Private room     Astoria               1549.394737\n",
      "                 Bedford-Stuyvesant    1409.256624\n",
      "                 Bushwick              1124.728912\n",
      "                 East Village          2796.284848\n",
      "                 Flushing              2027.403909\n",
      "                 Harlem                2132.832804\n",
      "                 Hell's Kitchen        4713.443452\n",
      "                 Long Island City      2032.819788\n",
      "                 Williamsburg          1770.604907\n",
      "Shared room      Astoria               1250.160000\n",
      "                 Bedford-Stuyvesant     650.764706\n",
      "                 Bushwick               439.220588\n",
      "                 East Village          1257.913043\n",
      "                 Flushing                63.538462\n",
      "                 Harlem                1472.204082\n",
      "                 Hell's Kitchen        1876.070707\n",
      "                 Long Island City       486.857143\n",
      "                 Williamsburg          1306.031250\n",
      "Name: Revenue, dtype: float64\n"
     ]
    }
   ],
   "source": [
    "airbnb_3=airbnb[(airbnb.neighbourhood==\"Williamsburg\")|(airbnb.neighbourhood==\"Bedford-Stuyvesant\")|(airbnb.neighbourhood==\"Bushwick\")|(airbnb.neighbourhood==\"Harlem\")|(airbnb.neighbourhood==\"Hell's Kitchen\")|(airbnb.neighbourhood==\"East Village\")|(airbnb.neighbourhood==\"Astoria\")|(airbnb.neighbourhood==\"Long Island City\")|(airbnb.neighbourhood==\"Flushing\")]\n",
    "avg_rev_by_room_type=airbnb_3.groupby([\"room_type\",\"neighbourhood\"])[\"Revenue\"].mean()\n",
    "avg_rev_by_room_type.reset_index()\n",
    "print(avg_rev_by_room_type)"
   ]
  },
  {
   "cell_type": "code",
   "execution_count": 14,
   "id": "6c9c4761",
   "metadata": {},
   "outputs": [
    {
     "name": "stdout",
     "output_type": "stream",
     "text": [
      "neighbourhood       room_type      \n",
      "Astoria             Entire home/apt    2845.629921\n",
      "                    Private room       1549.394737\n",
      "                    Shared room        1250.160000\n",
      "Bedford-Stuyvesant  Entire home/apt    5923.995600\n",
      "                    Private room       1409.256624\n",
      "                    Shared room         650.764706\n",
      "Bushwick            Entire home/apt    4128.241888\n",
      "                    Private room       1124.728912\n",
      "                    Shared room         439.220588\n",
      "East Village        Entire home/apt    4871.841880\n",
      "                    Private room       2796.284848\n",
      "                    Shared room        1257.913043\n",
      "Flushing            Entire home/apt    4879.349057\n",
      "                    Private room       2027.403909\n",
      "                    Shared room          63.538462\n",
      "Harlem              Entire home/apt    4991.899614\n",
      "                    Private room       2132.832804\n",
      "                    Shared room        1472.204082\n",
      "Hell's Kitchen      Entire home/apt    4116.112890\n",
      "                    Private room       4713.443452\n",
      "                    Shared room        1876.070707\n",
      "Long Island City    Entire home/apt    3303.504167\n",
      "                    Private room       2032.819788\n",
      "                    Shared room         486.857143\n",
      "Williamsburg        Entire home/apt    4659.608673\n",
      "                    Private room       1770.604907\n",
      "                    Shared room        1306.031250\n",
      "Name: Revenue, dtype: float64\n"
     ]
    }
   ],
   "source": [
    "airbnb_3=airbnb[(airbnb.neighbourhood==\"Williamsburg\")|(airbnb.neighbourhood==\"Bedford-Stuyvesant\")|(airbnb.neighbourhood==\"Bushwick\")|(airbnb.neighbourhood==\"Harlem\")|(airbnb.neighbourhood==\"Hell's Kitchen\")|(airbnb.neighbourhood==\"East Village\")|(airbnb.neighbourhood==\"Astoria\")|(airbnb.neighbourhood==\"Long Island City\")|(airbnb.neighbourhood==\"Flushing\")]\n",
    "avg_rev_by_room_type=airbnb_3.groupby([\"neighbourhood\",\"room_type\"])[\"Revenue\"].mean()\n",
    "avg_rev_by_room_type.reset_index()\n",
    "print(avg_rev_by_room_type)"
   ]
  },
  {
   "cell_type": "code",
   "execution_count": 15,
   "id": "9340fb91",
   "metadata": {},
   "outputs": [
    {
     "name": "stdout",
     "output_type": "stream",
     "text": [
      "neighbourhood       room_type      \n",
      "Astoria             Entire home/apt    2845.629921\n",
      "                    Private room       1549.394737\n",
      "                    Shared room        1250.160000\n",
      "Bedford-Stuyvesant  Entire home/apt    5923.995600\n",
      "                    Private room       1409.256624\n",
      "                    Shared room         650.764706\n",
      "Bushwick            Entire home/apt    4128.241888\n",
      "                    Private room       1124.728912\n",
      "                    Shared room         439.220588\n",
      "East Village        Entire home/apt    4871.841880\n",
      "                    Private room       2796.284848\n",
      "                    Shared room        1257.913043\n",
      "Flushing            Entire home/apt    4879.349057\n",
      "                    Private room       2027.403909\n",
      "                    Shared room          63.538462\n",
      "Harlem              Entire home/apt    4991.899614\n",
      "                    Private room       2132.832804\n",
      "                    Shared room        1472.204082\n",
      "Hell's Kitchen      Entire home/apt    4116.112890\n",
      "                    Private room       4713.443452\n",
      "                    Shared room        1876.070707\n",
      "Long Island City    Entire home/apt    3303.504167\n",
      "                    Private room       2032.819788\n",
      "                    Shared room         486.857143\n",
      "Williamsburg        Entire home/apt    4659.608673\n",
      "                    Private room       1770.604907\n",
      "                    Shared room        1306.031250\n",
      "Name: Revenue, dtype: float64\n"
     ]
    }
   ],
   "source": [
    "airbnb_3=airbnb[(airbnb.neighbourhood==\"Williamsburg\")|(airbnb.neighbourhood==\"Bedford-Stuyvesant\")|(airbnb.neighbourhood==\"Bushwick\")|(airbnb.neighbourhood==\"Harlem\")|(airbnb.neighbourhood==\"Hell's Kitchen\")|(airbnb.neighbourhood==\"East Village\")|(airbnb.neighbourhood==\"Astoria\")|(airbnb.neighbourhood==\"Long Island City\")|(airbnb.neighbourhood==\"Flushing\")]\n",
    "avg_rev_by_room_type=airbnb_3.groupby([\"neighbourhood\",\"room_type\"])[\"Revenue\"].mean()\n",
    "print(avg_rev_by_room_type)"
   ]
  },
  {
   "cell_type": "code",
   "execution_count": 16,
   "id": "b334efea",
   "metadata": {},
   "outputs": [
    {
     "data": {
      "image/png": "[encoded data removed]",
      "text/plain": [
       "<Figure size 432x288 with 1 Axes>"
      ]
     },
     "metadata": {
      "needs_background": "light"
     },
     "output_type": "display_data"
    }
   ],
   "source": [
    "airbnb_3=airbnb[(airbnb.neighbourhood==\"Williamsburg\")|(airbnb.neighbourhood==\"Bedford-Stuyvesant\")|(airbnb.neighbourhood==\"Bushwick\")|(airbnb.neighbourhood==\"Harlem\")|(airbnb.neighbourhood==\"Hell's Kitchen\")|(airbnb.neighbourhood==\"East Village\")|(airbnb.neighbourhood==\"Astoria\")|(airbnb.neighbourhood==\"Long Island City\")|(airbnb.neighbourhood==\"Flushing\")]\n",
    "avg_rev_by_room_type=airbnb_3.groupby([\"neighbourhood\",\"room_type\"])[\"Revenue\"].mean().sort_values(ascending=False)\n",
    "avg_rev_by_room_type.groupby(\"neighbourhood\").head(1).plot(kind=\"bar\")\n",
    "plt.show()"
   ]
  },
  {
   "cell_type": "code",
   "execution_count": null,
   "id": "ec4c74ee",
   "metadata": {},
   "outputs": [],
   "source": []
  }
 ],
 "metadata": {
  "kernelspec": {
   "display_name": "Python 3 (ipykernel)",
   "language": "python",
   "name": "python3"
  },
  "language_info": {
   "codemirror_mode": {
    "name": "ipython",
    "version": 3
   },
   "file_extension": ".py",
   "mimetype": "text/x-python",
   "name": "python",
   "nbconvert_exporter": "python",
   "pygments_lexer": "ipython3",
   "version": "3.9.12"
  }
 },
 "nbformat": 4,
 "nbformat_minor": 5
}
